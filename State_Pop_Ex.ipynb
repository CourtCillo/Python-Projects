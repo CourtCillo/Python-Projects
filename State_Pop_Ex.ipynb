{
 "cells": [
  {
   "cell_type": "code",
   "execution_count": 1,
   "id": "e619a968",
   "metadata": {},
   "outputs": [],
   "source": [
    "#key skills \n",
    "#function design and calling\n",
    "#basic math operators \n",
    "\n",
    "#write function that takes subtotal and tax rate and returns grand total \n",
    "\n",
    "#declared a function that takes two inputs called tax_total \n",
    "def tax_total(subtotal, tax_rate):\n",
    "    '''\n",
    "    adds tax at the given tax rate to the subtotal and returns grand total \n",
    "    input tax as a percent \n",
    "    '''\n",
    "    # convert tax as a percent\n",
    "    dec_tax = tax_rate / 100\n",
    "    # compute tax by mulitplying subtotal with tax rate \n",
    "    tax_dollars = subtotal * dec_tax \n",
    "    # add subtotal with ttax and return sum \n",
    "    grand_total = subtotal + tax_dollars \n",
    "    return(grand_total)\n",
    "\n",
    "    "
   ]
  },
  {
   "cell_type": "code",
   "execution_count": 29,
   "id": "691815eb",
   "metadata": {},
   "outputs": [
    {
     "name": "stdout",
     "output_type": "stream",
     "text": [
      "enter subtotal\n",
      "1500\n",
      "enter tax rate as percentage\n",
      "50\n"
     ]
    },
    {
     "data": {
      "text/plain": [
       "2250.0"
      ]
     },
     "execution_count": 29,
     "metadata": {},
     "output_type": "execute_result"
    }
   ],
   "source": [
    "#call function and input \n",
    "tax_total(1400, 13)\n",
    "\n",
    "#write a new function asking user for subtotal and tax rate \n",
    "def user_tax_total():\n",
    "    print(\"enter subtotal\")\n",
    "    subtotal = int(input())\n",
    "    print(\"enter tax rate as percentage\")\n",
    "    tax_rate = int(input())\n",
    "    return tax_total(subtotal, tax_rate)\n",
    "\n",
    "\n",
    "user_tax_total()\n",
    "\n"
   ]
  },
  {
   "cell_type": "code",
   "execution_count": 4,
   "id": "776f1d6b",
   "metadata": {},
   "outputs": [
    {
     "name": "stdout",
     "output_type": "stream",
     "text": [
      "enter name for state #1\n",
      "florida\n",
      "enter population for state florida\n",
      "100\n",
      "enter name for state #2\n",
      "georgia\n",
      "enter population for state georgia\n",
      "200\n"
     ]
    },
    {
     "data": {
      "text/plain": [
       "{'florida': 100, 'georgia': 200}"
      ]
     },
     "execution_count": 4,
     "metadata": {},
     "output_type": "execute_result"
    }
   ],
   "source": [
    "#Population change exercise \n",
    "\n",
    "state_populations = {}\n",
    "\n",
    "#get from use state name\n",
    "#get from user population\n",
    "#write the name, population pair into our dict called state_populations\n",
    "\n",
    "def input_state_population(num_states):\n",
    "    for states in range(1, num_states +1):\n",
    "        print(\"enter name for state #%s\" % states )\n",
    "        states = input()\n",
    "        print(\"enter population for state %s\" %states )\n",
    "        pop = int(input())\n",
    "        state_populations[states] = pop\n",
    "    return state_populations\n",
    "    \n",
    "input_state_population(2)\n"
   ]
  },
  {
   "cell_type": "code",
   "execution_count": 5,
   "id": "c1983ac2",
   "metadata": {},
   "outputs": [
    {
     "data": {
      "text/plain": [
       "({'florida': 100, 'georgia': 200}, {'florida': 105.0, 'georgia': 210.0})"
      ]
     },
     "execution_count": 5,
     "metadata": {},
     "output_type": "execute_result"
    }
   ],
   "source": [
    "\n",
    "state_population_growth = {}\n",
    "\n",
    "def grow_state_population(growth_rate):\n",
    "    rate = growth_rate/100\n",
    "    for states, pop in state_populations.items(): \n",
    "        new_pop = pop * rate + pop\n",
    "        state_population_growth[states] = new_pop\n",
    "    return state_populations, state_population_growth\n",
    "  \n",
    "grow_state_population(5)\n",
    "\n"
   ]
  },
  {
   "cell_type": "code",
   "execution_count": 22,
   "id": "43412b9d",
   "metadata": {},
   "outputs": [
    {
     "name": "stdout",
     "output_type": "stream",
     "text": [
      "enter name for state #1\n",
      "florida\n",
      "enter population for state florida\n",
      "100\n",
      "enter name for state #2\n",
      "georgia\n",
      "enter population for state georgia\n",
      "200\n"
     ]
    },
    {
     "data": {
      "text/plain": [
       "({'florida': 100, 'georgia': 200}, {'florida': 102.0, 'georgia': 204.0})"
      ]
     },
     "execution_count": 22,
     "metadata": {},
     "output_type": "execute_result"
    }
   ],
   "source": [
    "input_state_population(2)\n",
    "grow_state_population(2)"
   ]
  },
  {
   "cell_type": "code",
   "execution_count": 6,
   "id": "700da282",
   "metadata": {},
   "outputs": [
    {
     "name": "stdout",
     "output_type": "stream",
     "text": [
      "{'florida': 100, 'georgia': 200}\n",
      "{'florida': 105.0, 'georgia': 210.0}\n",
      "105.0\n",
      "210.0\n",
      "15.0\n"
     ]
    }
   ],
   "source": [
    "#Extension A\n",
    "#Compute total chnage in population across all states between state_populations & state_population_growth\n",
    "total_change = 0\n",
    "\n",
    "print(state_populations)\n",
    "print(state_population_growth)\n",
    "\n",
    "for ST, og_pop in state_populations.items(): \n",
    "    print(state_population_growth[ST]) \n",
    "    total_change += state_population_growth[ST] - og_pop\n",
    "        \n",
    "print (total_change) \n",
    "\n",
    "\n"
   ]
  },
  {
   "cell_type": "code",
   "execution_count": 19,
   "id": "5db510d8",
   "metadata": {},
   "outputs": [
    {
     "name": "stdout",
     "output_type": "stream",
     "text": [
      "105.0\n",
      "110.25\n",
      "115.7625\n",
      "121.550625\n",
      "127.62815624999999\n",
      "134.00956406249998\n",
      "210.0\n",
      "220.5\n",
      "231.525\n",
      "243.10125\n",
      "255.25631249999998\n",
      "268.01912812499995\n"
     ]
    },
    {
     "data": {
      "text/plain": [
       "({'florida': 100, 'georgia': 200},\n",
       " {'florida': 134.00956406249998, 'georgia': 268.01912812499995})"
      ]
     },
     "execution_count": 19,
     "metadata": {},
     "output_type": "execute_result"
    }
   ],
   "source": [
    "#Extension B \n",
    "#Adjust grow_state_populations function to take two parameters\n",
    "#second parameter being number of years to apply growth rate \n",
    "\n",
    "def grow_state_population(growth_rate, years):\n",
    "    rate = growth_rate/100 \n",
    "    for states, pop in state_populations.items():\n",
    "        new_pop = pop * rate + pop\n",
    "        print(new_pop)\n",
    "        for year in range(1, years):\n",
    "                new_pop += new_pop * rate\n",
    "                print(new_pop)\n",
    "                state_population_growth[states] = new_pop\n",
    "    return state_populations, state_population_growth\n",
    "growth_rate = 5\n",
    "grow_state_population(5, 6)"
   ]
  },
  {
   "cell_type": "code",
   "execution_count": 28,
   "id": "5874de90",
   "metadata": {},
   "outputs": [
    {
     "name": "stdout",
     "output_type": "stream",
     "text": [
      "105.0\n",
      "110.25\n",
      "115.7625\n",
      "121.550625\n",
      "127.62815624999999\n",
      "134.00956406249998\n",
      "140.71004226562496\n",
      "210.0\n",
      "220.5\n",
      "231.525\n",
      "243.10125\n",
      "255.25631249999998\n",
      "268.01912812499995\n",
      "281.4200845312499\n"
     ]
    }
   ],
   "source": [
    "#Extension C \n",
    "#write the results to a file called statepop.txt \n",
    "#first line should state the growth rate to be applied to each state \n",
    "#next lines should each contain a single states first data: state name, colon, original pop, comma, growth projection \n",
    "\n",
    "grow_state_population(5, 7)\n",
    "\n",
    "def display_state_pop():\n",
    "    with open ('statepop.txt', 'w') as statefile:\n",
    "        rate = \"assume growth rate of %s\" % str(growth_rate)\n",
    "        statefile.write(rate)\n",
    "        statefile.write('\\n')\n",
    "        #extract from state dictionaries data for writing in this format\n",
    "        #florida;100, 105\n",
    "        for state in state_populations.keys():\n",
    "            state_data_row = \"%s:%s, %s\" % (state, state_populations[state], state_population_growth[state])\n",
    "            statefile.write(state_data_row)\n",
    "            statefile.write('\\n')\n",
    "\n",
    "display_state_pop()"
   ]
  },
  {
   "cell_type": "code",
   "execution_count": 18,
   "id": "4328f3d8",
   "metadata": {},
   "outputs": [
    {
     "name": "stdout",
     "output_type": "stream",
     "text": [
      "total grads: 24038.96\n"
     ]
    }
   ],
   "source": [
    "#demo dictionary methods \n",
    "schooldict = {\"pitt\":{\"location\":\"oakland\", \"population\":4500},\n",
    "              \"carlow\":{\"Location\":\"oakland\", \"population\":1244},\n",
    "              \"byu\":{\"location\":\"provo\", \"population\":35000}}\n",
    "\n",
    "#assuming each school has 59% of undergrads as grads \n",
    "total_grad_students = 0 \n",
    "percent_grads = 0.59 \n",
    "\n",
    "for school, info_dict in schooldict.items():\n",
    "    #compute total grads in each school, add to total \n",
    "    undergrads = info_dict[\"population\"]\n",
    "    grads = undergrads * percent_grads\n",
    "    #add to total grads \n",
    "    total_grad_students += grads\n",
    "print(\"total grads:\", total_grad_students)  \n",
    "   "
   ]
  },
  {
   "cell_type": "code",
   "execution_count": 14,
   "id": "030dbcea",
   "metadata": {},
   "outputs": [
    {
     "name": "stdout",
     "output_type": "stream",
     "text": [
      "0.5932475884244373\n"
     ]
    }
   ],
   "source": [
    "perc_grad = 738/1244\n",
    "print(perc_grad)"
   ]
  }
 ],
 "metadata": {
  "kernelspec": {
   "display_name": "Python 3 (ipykernel)",
   "language": "python",
   "name": "python3"
  },
  "language_info": {
   "codemirror_mode": {
    "name": "ipython",
    "version": 3
   },
   "file_extension": ".py",
   "mimetype": "text/x-python",
   "name": "python",
   "nbconvert_exporter": "python",
   "pygments_lexer": "ipython3",
   "version": "3.11.1"
  }
 },
 "nbformat": 4,
 "nbformat_minor": 5
}
